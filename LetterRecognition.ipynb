{
 "cells": [
  {
   "cell_type": "code",
   "execution_count": 62,
   "metadata": {},
   "outputs": [
    {
     "name": "stdout",
     "output_type": "stream",
     "text": [
      "Populating the interactive namespace from numpy and matplotlib\n"
     ]
    }
   ],
   "source": [
    "import pandas as pd\n",
    "import numpy as np\n",
    "import matplotlib.pyplot as plt\n",
    "import matplotlib.image as mpimg\n",
    "import seaborn as sns\n",
    "%matplotlib inline\n",
    "\n",
    "np.random.seed(2)\n",
    "\n",
    "from sklearn.model_selection import train_test_split\n",
    "from sklearn.metrics import confusion_matrix\n",
    "import itertools\n",
    "\n",
    "from keras.utils.np_utils import to_categorical # convert to one-hot-encoding\n",
    "from keras.models import Sequential\n",
    "from keras.layers import Dense, Dropout, Flatten, Conv2D, MaxPool2D\n",
    "from keras.optimizers import RMSprop\n",
    "from keras.preprocessing.image import ImageDataGenerator\n",
    "from keras.callbacks import ReduceLROnPlateau\n",
    "\n",
    "from IPython.display import Image, display\n",
    "import numpy as np\n",
    "from tensorflow.keras.applications.resnet50 import preprocess_input\n",
    "from tensorflow.keras.applications import ResNet50\n",
    "from tensorflow.keras.preprocessing.image import load_img, img_to_array\n",
    "import warnings\n",
    "import copy\n",
    "warnings.filterwarnings('ignore')\n",
    "%pylab inline\n",
    "\n",
    "import matplotlib.pyplot as plt\n",
    "import matplotlib.image as mpimg\n",
    "import cv2\n",
    "from PIL import Image\n",
    "\n",
    "sns.set(style='white', context='notebook', palette='deep')"
   ]
  },
  {
   "cell_type": "code",
   "execution_count": 63,
   "metadata": {},
   "outputs": [
    {
     "name": "stdout",
     "output_type": "stream",
     "text": [
      "0\n"
     ]
    }
   ],
   "source": [
    "l1 = pd.read_csv('letters.csv')\n",
    "l2 = pd.read_csv('letters2.csv')\n",
    "l3 = pd.read_csv('letters3.csv')\n",
    "data = pd.concat([l1, l2, l3], ignore_index=True)\n",
    "data = data.drop(['background', 'letter'], axis = 1)\n",
    "data = data.drop(data.loc[data['file'] == '01_227.png'].index)\n",
    "data = data.drop(data.loc[data['file'] == '08_75.png'].index)\n",
    "data = data.drop(data.loc[data['file'] == '08_69.png'].index)\n",
    "print(data.isnull().sum().max())"
   ]
  },
  {
   "cell_type": "code",
   "execution_count": 64,
   "metadata": {},
   "outputs": [],
   "source": [
    "import os\n",
    "from os.path import join\n",
    "image_dir = r'C:\\Users\\Dota2\\letters'\n",
    "paths = [join(image_dir,filename) for filename in data['file']]"
   ]
  },
  {
   "cell_type": "code",
   "execution_count": 65,
   "metadata": {},
   "outputs": [],
   "source": [
    "image_size = 32\n",
    "\n",
    "def read_and_prep_images(img_paths, img_height=image_size, img_width=image_size):\n",
    "    imgs = [load_img(img_path, target_size=(img_height, img_width)) for img_path in img_paths]\n",
    "    img_array = np.array([img_to_array(img) for img in imgs])\n",
    "    output = preprocess_input(img_array)\n",
    "    return(output)"
   ]
  },
  {
   "cell_type": "code",
   "execution_count": 66,
   "metadata": {},
   "outputs": [
    {
     "data": {
      "image/png": "[encoded data removed]",
      "text/plain": [
       "<Figure size 432x288 with 1 Axes>"
      ]
     },
     "metadata": {},
     "output_type": "display_data"
    }
   ],
   "source": [
    "X_train = read_and_prep_images(paths)\n",
    "Y_train = data['label']\n",
    "Y_train = Y_train - 1\n",
    "del data\n",
    "uniq = sns.countplot(Y_train)"
   ]
  },
  {
   "cell_type": "code",
   "execution_count": 7,
   "metadata": {},
   "outputs": [],
   "source": [
    "X_train = X_train / 255.0"
   ]
  },
  {
   "cell_type": "code",
   "execution_count": 8,
   "metadata": {},
   "outputs": [],
   "source": [
    "Y_train = to_categorical(Y_train)"
   ]
  },
  {
   "cell_type": "code",
   "execution_count": 9,
   "metadata": {},
   "outputs": [],
   "source": [
    "random_seed = 2\n",
    "X_train, X_val, Y_train, Y_val = train_test_split(X_train, Y_train, test_size = 0.1, random_state=random_seed, shuffle=True)"
   ]
  },
  {
   "cell_type": "code",
   "execution_count": 10,
   "metadata": {},
   "outputs": [
    {
     "name": "stdout",
     "output_type": "stream",
     "text": [
      "WARNING:tensorflow:From C:\\Users\\Dota2\\anaconda3\\lib\\site-packages\\tensorflow\\python\\ops\\resource_variable_ops.py:435: colocate_with (from tensorflow.python.framework.ops) is deprecated and will be removed in a future version.\n",
      "Instructions for updating:\n",
      "Colocations handled automatically by placer.\n"
     ]
    }
   ],
   "source": [
    "model = Sequential()\n",
    "\n",
    "model.add(Conv2D(filters = 32, kernel_size = (4,4),padding = 'Same', \n",
    "                 activation ='relu', input_shape = (32,32,3)))\n",
    "model.add(Conv2D(filters = 32, kernel_size = (4,4),padding = 'Same', \n",
    "                 activation ='relu'))\n",
    "model.add(MaxPool2D(pool_size=(2,2)))\n",
    "model.add(Dropout(0.25))\n",
    "\n",
    "\n",
    "model.add(Conv2D(filters = 64, kernel_size = (3,3),padding = 'Same', \n",
    "                 activation ='relu'))\n",
    "model.add(Conv2D(filters = 64, kernel_size = (3,3),padding = 'Same', \n",
    "                 activation ='relu'))\n",
    "model.add(MaxPool2D(pool_size=(2,2), strides=(2,2)))\n",
    "model.add(Dropout(0.25))\n",
    "\n",
    "\n",
    "model.add(Flatten())\n",
    "model.add(Dense(256, activation = \"relu\"))\n",
    "model.add(Dropout(0.5))\n",
    "model.add(Dense(33, activation = \"softmax\"))"
   ]
  },
  {
   "cell_type": "code",
   "execution_count": 11,
   "metadata": {},
   "outputs": [],
   "source": [
    "optimizer = RMSprop(lr=0.001, rho=0.9, epsilon=1e-08, decay=0.0)\n",
    "model.compile(optimizer = optimizer , loss = \"categorical_crossentropy\", metrics=[\"accuracy\"])\n",
    "learning_rate_reduction = ReduceLROnPlateau(monitor='val_acc', \n",
    "                                            patience=3, \n",
    "                                            verbose=1, \n",
    "                                            factor=0.5, \n",
    "                                            min_lr=0.00001)"
   ]
  },
  {
   "cell_type": "code",
   "execution_count": 12,
   "metadata": {},
   "outputs": [],
   "source": [
    "epochs = 30\n",
    "batch_size = 86"
   ]
  },
  {
   "cell_type": "code",
   "execution_count": 13,
   "metadata": {},
   "outputs": [],
   "source": [
    "datagen = ImageDataGenerator(\n",
    "        featurewise_center=False, \n",
    "        samplewise_center=False,  \n",
    "        featurewise_std_normalization=False,\n",
    "        samplewise_std_normalization=False, \n",
    "        zca_whitening=False, \n",
    "        rotation_range=10, \n",
    "        zoom_range = 0.1,\n",
    "        width_shift_range=0.1,  \n",
    "        height_shift_range=0.1,\n",
    "        horizontal_flip=False, \n",
    "        vertical_flip=False)\n",
    "\n",
    "\n",
    "datagen.fit(X_train)"
   ]
  },
  {
   "cell_type": "code",
   "execution_count": 15,
   "metadata": {},
   "outputs": [
    {
     "name": "stdout",
     "output_type": "stream",
     "text": [
      "WARNING:tensorflow:From C:\\Users\\Dota2\\anaconda3\\lib\\site-packages\\tensorflow\\python\\ops\\math_ops.py:3066: to_int32 (from tensorflow.python.ops.math_ops) is deprecated and will be removed in a future version.\n",
      "Instructions for updating:\n",
      "Use tf.cast instead.\n",
      "Epoch 1/30\n",
      " - 91s - loss: 3.3594 - accuracy: 0.0661 - val_loss: 2.9125 - val_accuracy: 0.2037\n",
      "Epoch 2/30\n"
     ]
    },
    {
     "name": "stderr",
     "output_type": "stream",
     "text": [
      "C:\\Users\\Dota2\\anaconda3\\lib\\site-packages\\keras\\callbacks\\callbacks.py:1042: RuntimeWarning: Reduce LR on plateau conditioned on metric `val_acc` which is not available. Available metrics are: val_loss,val_accuracy,loss,accuracy,lr\n",
      "  (self.monitor, ','.join(list(logs.keys()))), RuntimeWarning\n"
     ]
    },
    {
     "name": "stdout",
     "output_type": "stream",
     "text": [
      " - 90s - loss: 2.8336 - accuracy: 0.2028 - val_loss: 2.1641 - val_accuracy: 0.3918\n",
      "Epoch 3/30\n",
      " - 85s - loss: 2.2934 - accuracy: 0.3441 - val_loss: 1.4928 - val_accuracy: 0.5701\n",
      "Epoch 4/30\n",
      " - 86s - loss: 1.9092 - accuracy: 0.4413 - val_loss: 1.0274 - val_accuracy: 0.7343\n",
      "Epoch 5/30\n",
      " - 81s - loss: 1.5849 - accuracy: 0.5401 - val_loss: 0.8077 - val_accuracy: 0.7745\n",
      "Epoch 6/30\n",
      " - 85s - loss: 1.3255 - accuracy: 0.6098 - val_loss: 0.9091 - val_accuracy: 0.7491\n",
      "Epoch 7/30\n",
      " - 80s - loss: 1.1375 - accuracy: 0.6624 - val_loss: 0.5482 - val_accuracy: 0.8428\n",
      "Epoch 8/30\n",
      " - 82s - loss: 1.0078 - accuracy: 0.6974 - val_loss: 0.4280 - val_accuracy: 0.8746\n",
      "Epoch 9/30\n",
      " - 89s - loss: 0.9047 - accuracy: 0.7292 - val_loss: 0.4314 - val_accuracy: 0.8717\n",
      "Epoch 10/30\n",
      " - 95s - loss: 0.8322 - accuracy: 0.7470 - val_loss: 0.3406 - val_accuracy: 0.9049\n",
      "Epoch 11/30\n",
      " - 87s - loss: 0.7474 - accuracy: 0.7719 - val_loss: 0.3197 - val_accuracy: 0.9049\n",
      "Epoch 12/30\n",
      " - 86s - loss: 0.7102 - accuracy: 0.7869 - val_loss: 0.3074 - val_accuracy: 0.9119\n",
      "Epoch 13/30\n",
      " - 87s - loss: 0.6751 - accuracy: 0.7985 - val_loss: 0.2738 - val_accuracy: 0.9183\n",
      "Epoch 14/30\n",
      " - 84s - loss: 0.6124 - accuracy: 0.8149 - val_loss: 0.2310 - val_accuracy: 0.9345\n",
      "Epoch 15/30\n",
      " - 83s - loss: 0.5914 - accuracy: 0.8195 - val_loss: 0.2479 - val_accuracy: 0.9302\n",
      "Epoch 16/30\n",
      " - 83s - loss: 0.5648 - accuracy: 0.8297 - val_loss: 0.2056 - val_accuracy: 0.9338\n",
      "Epoch 17/30\n",
      " - 87s - loss: 0.5211 - accuracy: 0.8407 - val_loss: 0.2178 - val_accuracy: 0.9338\n",
      "Epoch 18/30\n",
      " - 85s - loss: 0.5051 - accuracy: 0.8444 - val_loss: 0.2038 - val_accuracy: 0.9366\n",
      "Epoch 19/30\n",
      " - 95s - loss: 0.4983 - accuracy: 0.8499 - val_loss: 0.2215 - val_accuracy: 0.9323\n",
      "Epoch 20/30\n",
      " - 95s - loss: 0.4862 - accuracy: 0.8531 - val_loss: 0.1949 - val_accuracy: 0.9415\n",
      "Epoch 21/30\n",
      " - 98s - loss: 0.4630 - accuracy: 0.8578 - val_loss: 0.2062 - val_accuracy: 0.9387\n",
      "Epoch 22/30\n",
      " - 89s - loss: 0.4569 - accuracy: 0.8621 - val_loss: 0.1837 - val_accuracy: 0.9408\n",
      "Epoch 23/30\n",
      " - 86s - loss: 0.4410 - accuracy: 0.8646 - val_loss: 0.1873 - val_accuracy: 0.9394\n",
      "Epoch 24/30\n",
      " - 83s - loss: 0.4312 - accuracy: 0.8693 - val_loss: 0.1461 - val_accuracy: 0.9577\n",
      "Epoch 25/30\n",
      " - 90s - loss: 0.4321 - accuracy: 0.8719 - val_loss: 0.1916 - val_accuracy: 0.9394\n",
      "Epoch 26/30\n",
      " - 85s - loss: 0.4213 - accuracy: 0.8739 - val_loss: 0.1551 - val_accuracy: 0.9556\n",
      "Epoch 27/30\n",
      " - 95s - loss: 0.4104 - accuracy: 0.8772 - val_loss: 0.1460 - val_accuracy: 0.9528\n",
      "Epoch 28/30\n",
      " - 86s - loss: 0.4144 - accuracy: 0.8775 - val_loss: 0.1462 - val_accuracy: 0.9556\n",
      "Epoch 29/30\n",
      " - 90s - loss: 0.3815 - accuracy: 0.8859 - val_loss: 0.1442 - val_accuracy: 0.9535\n",
      "Epoch 30/30\n",
      " - 88s - loss: 0.3905 - accuracy: 0.8861 - val_loss: 0.1784 - val_accuracy: 0.9422\n"
     ]
    }
   ],
   "source": [
    "history = model.fit_generator(datagen.flow(X_train,Y_train, batch_size=batch_size),\n",
    "                              epochs = epochs, validation_data = (X_val,Y_val),\n",
    "                              verbose = 2, steps_per_epoch=X_train.shape[0] // batch_size\n",
    "                              , callbacks=[learning_rate_reduction])"
   ]
  },
  {
   "cell_type": "code",
   "execution_count": 16,
   "metadata": {},
   "outputs": [
    {
     "data": {
      "image/png": "[encoded data removed]",
      "text/plain": [
       "<Figure size 432x288 with 2 Axes>"
      ]
     },
     "metadata": {},
     "output_type": "display_data"
    }
   ],
   "source": [
    "fig, ax = plt.subplots(2,1)\n",
    "ax[0].plot(history.history['loss'], color='b', label=\"Training loss\")\n",
    "ax[0].plot(history.history['val_loss'], color='r', label=\"validation loss\",axes =ax[0])\n",
    "legend = ax[0].legend(loc='best', shadow=True)\n",
    "\n",
    "ax[1].plot(history.history['accuracy'], color='b', label=\"Training accuracy\")\n",
    "ax[1].plot(history.history['val_accuracy'], color='r',label=\"Validation accuracy\")\n",
    "legend = ax[1].legend(loc='best', shadow=True)"
   ]
  },
  {
   "cell_type": "code",
   "execution_count": 30,
   "metadata": {},
   "outputs": [
    {
     "data": {
      "image/png": "[encoded data removed]",
      "text/plain": [
       "<Figure size 432x288 with 1 Axes>"
      ]
     },
     "metadata": {
      "needs_background": "light"
     },
     "output_type": "display_data"
    },
    {
     "name": "stdout",
     "output_type": "stream",
     "text": [
      "Буква на картинке является:\n",
      "Буквой ю с вероятностью 100.00%\n",
      "Буквой п с вероятностью 0.00%\n",
      "Буквой т с вероятностью 0.00%\n"
     ]
    }
   ],
   "source": [
    "#Для предсказания единственной буквы\n",
    "paths = [r'C:\\Users\\Dota2\\testing\\a.png']\n",
    "test = read_and_prep_images(paths)\n",
    "\n",
    "test = test / 255.0\n",
    "results = model.predict(test)\n",
    "results = results * 100\n",
    "results = results[0]\n",
    "letts = ['а', 'б','в', 'г','д', 'е','ё', 'ж','з', 'и','й', 'к','л', 'м','н', 'о','п', 'р','с', 'т','у', 'ф','х', 'ц','ч', 'ш',\n",
    "        'щ', 'ъ','ы', 'ь','э', 'ю','я']\n",
    "vec_list = []\n",
    "for i in range(len(results)):\n",
    "    vec_list.append([results[i], letts[i]])\n",
    "vec_list.sort(key=lambda x: x[0], reverse = True)\n",
    "img=mpimg.imread(paths[0], 0)\n",
    "imgplot = plt.imshow(img)\n",
    "plt.show()\n",
    "\n",
    "print('Буква на картинке является:')\n",
    "print('Буквой {} с вероятностью {}%'.format(vec_list[0][1],'%.2f' % vec_list[0][0]))\n",
    "print('Буквой {} с вероятностью {}%'.format(vec_list[1][1],'%.2f' % vec_list[1][0]))\n",
    "print('Буквой {} с вероятностью {}%'.format(vec_list[2][1],'%.2f' % vec_list[2][0]))"
   ]
  },
  {
   "cell_type": "code",
   "execution_count": 38,
   "metadata": {},
   "outputs": [],
   "source": [
    "#Для предсказания большего числа букв\n",
    "image_dir = r'C:\\Users\\Dota2\\testing'\n",
    "files = ['test.png', 'a.png'] #preferably in csv\n",
    "paths = [join(image_dir,filename) for filename in files]\n",
    "test = read_and_prep_images(paths)\n",
    "test = test / 255.0\n",
    "results = model.predict(test)\n",
    "results = results * 100\n",
    "results = np.argmax(results,axis = 1)\n",
    "alph = { 0:'а', 1:'б', 2:'в', 3:'г', 4:'д', 5:'е', 6:'ё', 7:'ж', 8:'з', 9:'и', 10:'й', 11:'к', 12:'л', 13:'м', 14:'н',\n",
    "        15:'о', 16:'п', 17:'р', 18:'с',19:'т', 20:'у', 21:'ф', 22:'х', 23:'ц', 24:'ч', 25:'ш', 26:'щ', 27:'ъ', 28:'ы',\n",
    "        29:'ь', 30:'э', 31:'ю', 32:'я'\n",
    "        }\n",
    "final = []\n",
    "for i in range(len(results)):\n",
    "    final.append(alph.get(results[i]))"
   ]
  },
  {
   "cell_type": "code",
   "execution_count": 57,
   "metadata": {},
   "outputs": [
    {
     "data": {
      "text/plain": [
       "['а', 'ю']"
      ]
     },
     "execution_count": 57,
     "metadata": {},
     "output_type": "execute_result"
    }
   ],
   "source": [
    "final"
   ]
  },
  {
   "cell_type": "code",
   "execution_count": 59,
   "metadata": {},
   "outputs": [],
   "source": [
    "import pickle\n",
    "with open('lettermodel.pkl', 'wb') as output:\n",
    "       pickle.dump(model, output)"
   ]
  },
  {
   "cell_type": "code",
   "execution_count": null,
   "metadata": {},
   "outputs": [],
   "source": []
  }
 ],
 "metadata": {
  "kernelspec": {
   "display_name": "Python 3",
   "language": "python",
   "name": "python3"
  },
  "language_info": {
   "codemirror_mode": {
    "name": "ipython",
    "version": 3
   },
   "file_extension": ".py",
   "mimetype": "text/x-python",
   "name": "python",
   "nbconvert_exporter": "python",
   "pygments_lexer": "ipython3",
   "version": "3.7.6"
  }
 },
 "nbformat": 4,
 "nbformat_minor": 4
}
